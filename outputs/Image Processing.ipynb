{
 "cells": [
  {
   "cell_type": "code",
   "execution_count": 1,
   "metadata": {},
   "outputs": [],
   "source": [
    "import os\n",
    "import sys\n",
    "import tensorflow as tf\n",
    "import numpy as np\n",
    "from PIL import Image\n",
    "import matplotlib.pyplot as plt\n",
    "from moviepy.editor import *\n",
    "from moviepy.video.fx import resize\n",
    "import glob"
   ]
  },
  {
   "cell_type": "code",
   "execution_count": 3,
   "metadata": {},
   "outputs": [
    {
     "data": {
      "text/plain": [
       "'/Users/calebjones/Documents/Galvanize/Class/Capstone_3/Weapon-Detection/YOLO/outputs'"
      ]
     },
     "execution_count": 3,
     "metadata": {},
     "output_type": "execute_result"
    }
   ],
   "source": [
    "pwd"
   ]
  },
  {
   "cell_type": "code",
   "execution_count": 27,
   "metadata": {},
   "outputs": [],
   "source": [
    "import os\n",
    "from PIL import Image\n",
    "\n",
    "# crop images in folder\n",
    "\n",
    "path = r'source_path_of_your_choice'\n",
    "savepath = r'outpath_of_your_choice'\n",
    "for filename in os.listdir(path):\n",
    "    if filename.endswith(\".PNG\"): # i'm looking to convert from PNG files\n",
    "        \n",
    "        # open the image\n",
    "        im = Image.open(path + filename) \n",
    "        \n",
    "        # get image size\n",
    "        width, height = im.size \n",
    "        \n",
    "        # good-enough pixel locations for cropping out black bars in photos from iphone\n",
    "        left = 0\n",
    "        top = 400\n",
    "        right = width\n",
    "        bottom = height - 400\n",
    "        \n",
    "        # crop the photo\n",
    "        im1 = im.crop((left, top, right, bottom)) \n",
    "        \n",
    "        # convert to RGB\n",
    "        rgb_im = im1.convert('RGB') \n",
    "        \n",
    "        # save RGB to jpg format\n",
    "        rgb_im.save(fp = savepath + filename[-12:-4] + '.jpg', format = 'jpeg') "
   ]
  },
  {
   "cell_type": "code",
   "execution_count": 11,
   "metadata": {},
   "outputs": [
    {
     "name": "stdout",
     "output_type": "stream",
     "text": [
      "clip.size:  [1080, 1920]\n"
     ]
    }
   ],
   "source": [
    "# use to change speed of a video clip\n",
    "\n",
    "clip = VideoFileClip('../demos/standard_model_pistol.mov')\n",
    "print('clip.size: ', clip.size)"
   ]
  },
  {
   "cell_type": "code",
   "execution_count": null,
   "metadata": {},
   "outputs": [],
   "source": [
    "# need resize to be the [w, h], this will screw it up if that's not done right\n",
    "# final = clip.speedx(2).resize([1080,1920]) for vertical iphone outputs for example\n",
    "\n",
    "final = clip.speedx(0.2) \n",
    "final.ipython_display(maxduration = 200)"
   ]
  },
  {
   "cell_type": "code",
   "execution_count": 12,
   "metadata": {},
   "outputs": [
    {
     "name": "stderr",
     "output_type": "stream",
     "text": [
      "\r",
      "t:   0%|          | 0/866 [00:00<?, ?it/s, now=None]"
     ]
    },
    {
     "name": "stdout",
     "output_type": "stream",
     "text": [
      "MoviePy - Building file mygif.gif with imageio.\n"
     ]
    },
    {
     "name": "stderr",
     "output_type": "stream",
     "text": [
      "                                                              \r"
     ]
    }
   ],
   "source": [
    "clip.write_gif(\"mygif.gif\")"
   ]
  },
  {
   "cell_type": "code",
   "execution_count": null,
   "metadata": {},
   "outputs": [],
   "source": []
  }
 ],
 "metadata": {
  "kernelspec": {
   "display_name": "Python 3",
   "language": "python",
   "name": "python3"
  },
  "language_info": {
   "codemirror_mode": {
    "name": "ipython",
    "version": 3
   },
   "file_extension": ".py",
   "mimetype": "text/x-python",
   "name": "python",
   "nbconvert_exporter": "python",
   "pygments_lexer": "ipython3",
   "version": "3.7.7"
  }
 },
 "nbformat": 4,
 "nbformat_minor": 4
}
